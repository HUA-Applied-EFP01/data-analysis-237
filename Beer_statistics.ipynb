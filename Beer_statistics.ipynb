{
 "cells": [
  {
   "cell_type": "code",
   "execution_count": 18,
   "metadata": {},
   "outputs": [],
   "source": [
    "# Import libraries\n",
    "import pandas as pd"
   ]
  },
  {
   "cell_type": "code",
   "execution_count": 19,
   "metadata": {},
   "outputs": [],
   "source": [
    "# Load csv file to dataframe\n",
    "filename = \"beer_profile_and_ratings.csv\"\n",
    "df = pd.read_csv(filename)\n"
   ]
  },
  {
   "cell_type": "code",
   "execution_count": 21,
   "metadata": {},
   "outputs": [
    {
     "name": "stdout",
     "output_type": "stream",
     "text": [
      "               ABV      Min IBU      Max IBU  Astringency         Body  \\\n",
      "count  3197.000000  3197.000000  3197.000000  3197.000000  3197.000000   \n",
      "mean      6.526688    21.180482    38.986863    16.515796    46.129496   \n",
      "std       2.546997    13.242242    21.355281    10.410661    25.947842   \n",
      "min       0.000000     0.000000     0.000000     0.000000     0.000000   \n",
      "25%       5.000000    15.000000    25.000000     9.000000    29.000000   \n",
      "50%       6.000000    20.000000    35.000000    14.000000    40.000000   \n",
      "75%       7.600000    25.000000    45.000000    21.000000    58.000000   \n",
      "max      57.500000    65.000000   100.000000    81.000000   175.000000   \n",
      "\n",
      "           Alcohol       Bitter        Sweet         Sour        Salty  \\\n",
      "count  3197.000000  3197.000000  3197.000000  3197.000000  3197.000000   \n",
      "mean     17.055990    36.364404    58.270879    33.145449     1.017204   \n",
      "std      17.331334    25.791152    34.281310    35.780172     2.132651   \n",
      "min       0.000000     0.000000     0.000000     0.000000     0.000000   \n",
      "25%       6.000000    17.000000    33.000000    11.000000     0.000000   \n",
      "50%      11.000000    31.000000    54.000000    22.000000     0.000000   \n",
      "75%      22.000000    52.000000    77.000000    42.000000     1.000000   \n",
      "max     139.000000   150.000000   263.000000   284.000000    48.000000   \n",
      "\n",
      "            Fruits        Hoppy       Spices        Malty  review_aroma  \\\n",
      "count  3197.000000  3197.000000  3197.000000  3197.000000   3197.000000   \n",
      "mean     38.529559    40.924617    18.345637    75.330935      3.638789   \n",
      "std      32.296646    30.403641    23.756582    39.909338      0.503209   \n",
      "min       0.000000     0.000000     0.000000     0.000000      1.509615   \n",
      "25%      12.000000    18.000000     4.000000    45.000000      3.422559   \n",
      "50%      29.000000    33.000000    10.000000    73.000000      3.720183   \n",
      "75%      60.000000    56.000000    23.000000   103.000000      3.978000   \n",
      "max     175.000000   172.000000   184.000000   239.000000      5.000000   \n",
      "\n",
      "       review_appearance  review_palate  review_taste  review_overall  \\\n",
      "count        3197.000000    3197.000000   3197.000000     3197.000000   \n",
      "mean            3.754393       3.660428      3.702496        3.747522   \n",
      "std             0.403416       0.449937      0.510361        0.444288   \n",
      "min             1.571429       1.285714      1.214286        1.136364   \n",
      "25%             3.604651       3.470021      3.500000        3.566667   \n",
      "50%             3.833333       3.741667      3.791667        3.830239   \n",
      "75%             4.000000       3.965587      4.033333        4.032847   \n",
      "max             4.666667       5.000000      5.000000        5.000000   \n",
      "\n",
      "       number_of_reviews  \n",
      "count        3197.000000  \n",
      "mean          233.284955  \n",
      "std           361.811847  \n",
      "min             1.000000  \n",
      "25%            23.000000  \n",
      "50%            93.000000  \n",
      "75%           284.000000  \n",
      "max          3290.000000  \n"
     ]
    }
   ],
   "source": [
    "print(df.describe())\n"
   ]
  },
  {
   "cell_type": "code",
   "execution_count": null,
   "metadata": {},
   "outputs": [],
   "source": []
  }
 ],
 "metadata": {
  "kernelspec": {
   "display_name": "Python 3",
   "language": "python",
   "name": "python3"
  },
  "language_info": {
   "codemirror_mode": {
    "name": "ipython",
    "version": 3
   },
   "file_extension": ".py",
   "mimetype": "text/x-python",
   "name": "python",
   "nbconvert_exporter": "python",
   "pygments_lexer": "ipython3",
   "version": "3.12.0"
  }
 },
 "nbformat": 4,
 "nbformat_minor": 2
}
